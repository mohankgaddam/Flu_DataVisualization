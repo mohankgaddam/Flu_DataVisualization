{
 "cells": [
  {
   "cell_type": "code",
   "execution_count": 1,
   "metadata": {},
   "outputs": [],
   "source": [
    "#Load libraries\n",
    "suppressWarnings(suppressMessages(library(\"plotly\")))\n",
    "suppressWarnings(suppressMessages(library(\"shinyLP\")))\n",
    "library(\"plotly\")\n",
    "library(\"shinyLP\")\n",
    "\n",
    "\n",
    "# Plotly credentials obtained by creating an account to publish the graphs.\n",
    "#Sys.setenv(\"plotly_username\"=\"mgaddam\")\n",
    "#Sys.setenv(\"plotly_api_key\"=\"b6JtApco7Kc4umc9GKVb\")\n"
   ]
  },
  {
   "cell_type": "code",
   "execution_count": 2,
   "metadata": {},
   "outputs": [
    {
     "data": {
      "text/html": [
       "<table>\n",
       "<thead><tr><th scope=col>REGION.TYPE</th><th scope=col>REGION</th><th scope=col>YEAR</th><th scope=col>WEEK</th><th scope=col>TOTAL.SPECIMENS</th><th scope=col>TOTAL.A</th><th scope=col>TOTAL.B</th><th scope=col>PERCENT.POSITIVE</th><th scope=col>PERCENT.A</th><th scope=col>PERCENT.B</th><th scope=col>Year.Week</th></tr></thead>\n",
       "<tbody>\n",
       "\t<tr><td>National</td><td>X       </td><td>2018    </td><td>40      </td><td>16492   </td><td>218     </td><td>69      </td><td>1.74024 </td><td>1.32185 </td><td>0.418385</td><td>2018 40 </td></tr>\n",
       "\t<tr><td>National</td><td>X       </td><td>2018    </td><td>41      </td><td>17980   </td><td>222     </td><td>81      </td><td>1.68521 </td><td>1.23471 </td><td>0.450501</td><td>2018 41 </td></tr>\n",
       "\t<tr><td>National</td><td>X       </td><td>2018    </td><td>42      </td><td>20128   </td><td>311     </td><td>89      </td><td>1.98728 </td><td>1.54511 </td><td>0.442170</td><td>2018 42 </td></tr>\n",
       "\t<tr><td>National</td><td>X       </td><td>2018    </td><td>43      </td><td>21302   </td><td>337     </td><td>98      </td><td>2.04206 </td><td>1.58201 </td><td>0.460051</td><td>2018 43 </td></tr>\n",
       "\t<tr><td>National</td><td>X       </td><td>2018    </td><td>44      </td><td>22281   </td><td>389     </td><td>98      </td><td>2.18572 </td><td>1.74588 </td><td>0.439837</td><td>2018 44 </td></tr>\n",
       "\t<tr><td>National</td><td>X       </td><td>2018    </td><td>45      </td><td>23304   </td><td>543     </td><td>95      </td><td>2.73773 </td><td>2.33007 </td><td>0.407655</td><td>2018 45 </td></tr>\n",
       "</tbody>\n",
       "</table>\n"
      ],
      "text/latex": [
       "\\begin{tabular}{r|lllllllllll}\n",
       " REGION.TYPE & REGION & YEAR & WEEK & TOTAL.SPECIMENS & TOTAL.A & TOTAL.B & PERCENT.POSITIVE & PERCENT.A & PERCENT.B & Year.Week\\\\\n",
       "\\hline\n",
       "\t National & X        & 2018     & 40       & 16492    & 218      & 69       & 1.74024  & 1.32185  & 0.418385 & 2018 40 \\\\\n",
       "\t National & X        & 2018     & 41       & 17980    & 222      & 81       & 1.68521  & 1.23471  & 0.450501 & 2018 41 \\\\\n",
       "\t National & X        & 2018     & 42       & 20128    & 311      & 89       & 1.98728  & 1.54511  & 0.442170 & 2018 42 \\\\\n",
       "\t National & X        & 2018     & 43       & 21302    & 337      & 98       & 2.04206  & 1.58201  & 0.460051 & 2018 43 \\\\\n",
       "\t National & X        & 2018     & 44       & 22281    & 389      & 98       & 2.18572  & 1.74588  & 0.439837 & 2018 44 \\\\\n",
       "\t National & X        & 2018     & 45       & 23304    & 543      & 95       & 2.73773  & 2.33007  & 0.407655 & 2018 45 \\\\\n",
       "\\end{tabular}\n"
      ],
      "text/markdown": [
       "\n",
       "| REGION.TYPE | REGION | YEAR | WEEK | TOTAL.SPECIMENS | TOTAL.A | TOTAL.B | PERCENT.POSITIVE | PERCENT.A | PERCENT.B | Year.Week |\n",
       "|---|---|---|---|---|---|---|---|---|---|---|\n",
       "| National | X        | 2018     | 40       | 16492    | 218      | 69       | 1.74024  | 1.32185  | 0.418385 | 2018 40  |\n",
       "| National | X        | 2018     | 41       | 17980    | 222      | 81       | 1.68521  | 1.23471  | 0.450501 | 2018 41  |\n",
       "| National | X        | 2018     | 42       | 20128    | 311      | 89       | 1.98728  | 1.54511  | 0.442170 | 2018 42  |\n",
       "| National | X        | 2018     | 43       | 21302    | 337      | 98       | 2.04206  | 1.58201  | 0.460051 | 2018 43  |\n",
       "| National | X        | 2018     | 44       | 22281    | 389      | 98       | 2.18572  | 1.74588  | 0.439837 | 2018 44  |\n",
       "| National | X        | 2018     | 45       | 23304    | 543      | 95       | 2.73773  | 2.33007  | 0.407655 | 2018 45  |\n",
       "\n"
      ],
      "text/plain": [
       "  REGION.TYPE REGION YEAR WEEK TOTAL.SPECIMENS TOTAL.A TOTAL.B PERCENT.POSITIVE\n",
       "1 National    X      2018 40   16492           218     69      1.74024         \n",
       "2 National    X      2018 41   17980           222     81      1.68521         \n",
       "3 National    X      2018 42   20128           311     89      1.98728         \n",
       "4 National    X      2018 43   21302           337     98      2.04206         \n",
       "5 National    X      2018 44   22281           389     98      2.18572         \n",
       "6 National    X      2018 45   23304           543     95      2.73773         \n",
       "  PERCENT.A PERCENT.B Year.Week\n",
       "1 1.32185   0.418385  2018 40  \n",
       "2 1.23471   0.450501  2018 41  \n",
       "3 1.54511   0.442170  2018 42  \n",
       "4 1.58201   0.460051  2018 43  \n",
       "5 1.74588   0.439837  2018 44  \n",
       "6 2.33007   0.407655  2018 45  "
      ]
     },
     "metadata": {},
     "output_type": "display_data"
    }
   ],
   "source": [
    "#Load Clinical labaratory data\n",
    "clinical_lab_data_2018_19 <- read.csv(\"./WHO_NREVSS_Clinical_Labs_2018_19.csv\")\n",
    "\n",
    "#Add leading zeros for single digit week numbers. (So that the year-week combination is properly sorted)\n",
    "clinical_lab_data_2018_19$WEEK <- sprintf(\"%02d\",clinical_lab_data_2018_19$WEEK)\n",
    "\n",
    "#Combine Year and week into a single column\n",
    "clinical_lab_data_2018_19$Year.Week <- paste(clinical_lab_data_2018_19$YEAR, clinical_lab_data_2018_19$WEEK)\n",
    "head(clinical_lab_data_2018_19)"
   ]
  },
  {
   "cell_type": "code",
   "execution_count": 3,
   "metadata": {},
   "outputs": [
    {
     "data": {
      "text/html": [
       "<!doctype html>\n",
       "<html>\n",
       "\t<head>\n",
       "\t\t<meta charset=\"utf-8\">\n",
       "\t\t\n",
       "\t</head>\n",
       "\t<body>\n",
       "\t\t<iframe width=\"900\" height=\"800\" src=\"//plot.ly/~mgaddam/1.embed\"></iframe>\n",
       "\t</body>\n",
       "</html>\n"
      ],
      "text/plain": [
       "Shiny tags cannot be represented in plain text (need html)"
      ]
     },
     "metadata": {
      "text/html": {
       "isolated": true
      }
     },
     "output_type": "display_data"
    }
   ],
   "source": [
    "ay <- list(\n",
    "  tickfont = list(color = \"black\"),\n",
    "  overlaying = \"y\",\n",
    "  side = \"right\",\n",
    "  title = \"Percent Positive\",\n",
    "  autorange = \"tozero\"  \n",
    "  \n",
    ")\n",
    "bargraph_data_2018_19 <- data.frame(clinical_lab_data_2018_19$Year.Week, clinical_lab_data_2018_19$TOTAL.A, \n",
    "                                    clinical_lab_data_2018_19$TOTAL.B, clinical_lab_data_2018_19$PERCENT.POSITIVE,\n",
    "                                    clinical_lab_data_2018_19$PERCENT.A, clinical_lab_data_2018_19$PERCENT.B)\n",
    "colnames(bargraph_data_2018_19) <- c(\"Year.Week\", \"TOTAL.A\", \"TOTAL.B\", \"PERCENT.POSITIVE\", \"PERCENT.A\", \"PERCENT.B\")\n",
    "p <- plot_ly(bargraph_data_2018_19, x = ~clinical_lab_data_2018_19$Year.Week, y = ~clinical_lab_data_2018_19$TOTAL.B, type = 'bar', name = 'B', marker = list(color = 'green')) %>%\n",
    "     add_trace(y = ~clinical_lab_data_2018_19$TOTAL.A, name = 'A', marker = list(color = 'yellow')) %>%\n",
    "     add_trace(y = ~clinical_lab_data_2018_19$PERCENT.POSITIVE, type = 'scatter', mode = 'lines+markers', name = \"Percent positive\", yaxis = \"y2\", line = list(color = 'black')) %>%\n",
    "     add_trace(y = ~clinical_lab_data_2018_19$PERCENT.A, type = 'scatter', mode = 'lines+markers', name = \"% Positive Flu A\", yaxis = \"y2\", line = list(color = 'blue', dash = 'dot')) %>%\n",
    "     add_trace(y = ~clinical_lab_data_2018_19$PERCENT.B, type = 'scatter', mode = 'lines+markers', name = \"% Positive Flu B\", yaxis = \"y2\", line = list(color = 'red', dash = 'dot')) %>%\n",
    "     layout(title = \"Influenza Positive Tests Reported to CDC by U.S Clinical Laboratories, \n",
    "            National Summary, 2018-2019 Season\", \n",
    "            xaxis = list(title = 'Week'), yaxis = list(title = 'Number of Positive Specimens'), yaxis2 = ay, barmode = 'stack')\n",
    "\n",
    "#p #Just print the plot object to view the plot offline\n",
    "iframe(width=\"900\", height=\"800\", url_link=\"//plot.ly/~mgaddam/1.embed\")"
   ]
  },
  {
   "cell_type": "code",
   "execution_count": 4,
   "metadata": {},
   "outputs": [
    {
     "data": {
      "text/html": [
       "<table>\n",
       "<thead><tr><th scope=col>REGION.TYPE</th><th scope=col>REGION</th><th scope=col>YEAR</th><th scope=col>WEEK</th><th scope=col>TOTAL.SPECIMENS</th><th scope=col>A..2009.H1N1.</th><th scope=col>A..H3.</th><th scope=col>A..Subtyping.not.Performed.</th><th scope=col>B</th><th scope=col>BVic</th><th scope=col>BYam</th><th scope=col>H3N2v</th><th scope=col>Year.Week</th></tr></thead>\n",
       "<tbody>\n",
       "\t<tr><td>National</td><td>X       </td><td>2018    </td><td>40      </td><td> 793    </td><td> 29     </td><td>11      </td><td> 7      </td><td>0       </td><td>7       </td><td>11      </td><td>0       </td><td>2018 40 </td></tr>\n",
       "\t<tr><td>National</td><td>X       </td><td>2018    </td><td>41      </td><td> 897    </td><td> 52     </td><td>10      </td><td> 7      </td><td>5       </td><td>3       </td><td> 5      </td><td>0       </td><td>2018 41 </td></tr>\n",
       "\t<tr><td>National</td><td>X       </td><td>2018    </td><td>42      </td><td>1080    </td><td> 51     </td><td>20      </td><td>12      </td><td>1       </td><td>2       </td><td>14      </td><td>0       </td><td>2018 42 </td></tr>\n",
       "\t<tr><td>National</td><td>X       </td><td>2018    </td><td>43      </td><td>1085    </td><td> 74     </td><td>35      </td><td> 3      </td><td>3       </td><td>0       </td><td>13      </td><td>0       </td><td>2018 43 </td></tr>\n",
       "\t<tr><td>National</td><td>X       </td><td>2018    </td><td>44      </td><td>1211    </td><td> 82     </td><td>23      </td><td> 2      </td><td>1       </td><td>1       </td><td> 8      </td><td>0       </td><td>2018 44 </td></tr>\n",
       "\t<tr><td>National</td><td>X       </td><td>2018    </td><td>45      </td><td>1297    </td><td>117     </td><td>27      </td><td>14      </td><td>4       </td><td>4       </td><td> 7      </td><td>0       </td><td>2018 45 </td></tr>\n",
       "</tbody>\n",
       "</table>\n"
      ],
      "text/latex": [
       "\\begin{tabular}{r|lllllllllllll}\n",
       " REGION.TYPE & REGION & YEAR & WEEK & TOTAL.SPECIMENS & A..2009.H1N1. & A..H3. & A..Subtyping.not.Performed. & B & BVic & BYam & H3N2v & Year.Week\\\\\n",
       "\\hline\n",
       "\t National & X        & 2018     & 40       &  793     &  29      & 11       &  7       & 0        & 7        & 11       & 0        & 2018 40 \\\\\n",
       "\t National & X        & 2018     & 41       &  897     &  52      & 10       &  7       & 5        & 3        &  5       & 0        & 2018 41 \\\\\n",
       "\t National & X        & 2018     & 42       & 1080     &  51      & 20       & 12       & 1        & 2        & 14       & 0        & 2018 42 \\\\\n",
       "\t National & X        & 2018     & 43       & 1085     &  74      & 35       &  3       & 3        & 0        & 13       & 0        & 2018 43 \\\\\n",
       "\t National & X        & 2018     & 44       & 1211     &  82      & 23       &  2       & 1        & 1        &  8       & 0        & 2018 44 \\\\\n",
       "\t National & X        & 2018     & 45       & 1297     & 117      & 27       & 14       & 4        & 4        &  7       & 0        & 2018 45 \\\\\n",
       "\\end{tabular}\n"
      ],
      "text/markdown": [
       "\n",
       "| REGION.TYPE | REGION | YEAR | WEEK | TOTAL.SPECIMENS | A..2009.H1N1. | A..H3. | A..Subtyping.not.Performed. | B | BVic | BYam | H3N2v | Year.Week |\n",
       "|---|---|---|---|---|---|---|---|---|---|---|---|---|\n",
       "| National | X        | 2018     | 40       |  793     |  29      | 11       |  7       | 0        | 7        | 11       | 0        | 2018 40  |\n",
       "| National | X        | 2018     | 41       |  897     |  52      | 10       |  7       | 5        | 3        |  5       | 0        | 2018 41  |\n",
       "| National | X        | 2018     | 42       | 1080     |  51      | 20       | 12       | 1        | 2        | 14       | 0        | 2018 42  |\n",
       "| National | X        | 2018     | 43       | 1085     |  74      | 35       |  3       | 3        | 0        | 13       | 0        | 2018 43  |\n",
       "| National | X        | 2018     | 44       | 1211     |  82      | 23       |  2       | 1        | 1        |  8       | 0        | 2018 44  |\n",
       "| National | X        | 2018     | 45       | 1297     | 117      | 27       | 14       | 4        | 4        |  7       | 0        | 2018 45  |\n",
       "\n"
      ],
      "text/plain": [
       "  REGION.TYPE REGION YEAR WEEK TOTAL.SPECIMENS A..2009.H1N1. A..H3.\n",
       "1 National    X      2018 40    793             29           11    \n",
       "2 National    X      2018 41    897             52           10    \n",
       "3 National    X      2018 42   1080             51           20    \n",
       "4 National    X      2018 43   1085             74           35    \n",
       "5 National    X      2018 44   1211             82           23    \n",
       "6 National    X      2018 45   1297            117           27    \n",
       "  A..Subtyping.not.Performed. B BVic BYam H3N2v Year.Week\n",
       "1  7                          0 7    11   0     2018 40  \n",
       "2  7                          5 3     5   0     2018 41  \n",
       "3 12                          1 2    14   0     2018 42  \n",
       "4  3                          3 0    13   0     2018 43  \n",
       "5  2                          1 1     8   0     2018 44  \n",
       "6 14                          4 4     7   0     2018 45  "
      ]
     },
     "metadata": {},
     "output_type": "display_data"
    }
   ],
   "source": [
    "#Load health lab data\n",
    "health_lab_data_2018_19 <- read.csv('./WHO_NREVSS_Public_Health_Labs_2018_19.csv')\n",
    "\n",
    "#Add leading zeros for single digit week numbers. (So that the year-week combination is properly sorted)\n",
    "health_lab_data_2018_19$WEEK <- sprintf(\"%02d\",health_lab_data_2018_19$WEEK)\n",
    "\n",
    "#Combine Year and week into a single column\n",
    "health_lab_data_2018_19$Year.Week <- paste(health_lab_data_2018_19$YEAR, health_lab_data_2018_19$WEEK)\n",
    "head(health_lab_data_2018_19)"
   ]
  },
  {
   "cell_type": "code",
   "execution_count": 5,
   "metadata": {},
   "outputs": [
    {
     "data": {
      "text/html": [
       "<!doctype html>\n",
       "<html>\n",
       "\t<head>\n",
       "\t\t<meta charset=\"utf-8\">\n",
       "\t\t\n",
       "\t</head>\n",
       "\t<body>\n",
       "\t\t<iframe width=\"900\" height=\"800\" src=\"//plot.ly/~mgaddam/3.embed\"></iframe>\n",
       "\t</body>\n",
       "</html>\n"
      ],
      "text/plain": [
       "Shiny tags cannot be represented in plain text (need html)"
      ]
     },
     "metadata": {
      "text/html": {
       "isolated": true
      }
     },
     "output_type": "display_data"
    }
   ],
   "source": [
    "p2 <- plot_ly(health_lab_data_2018_19, x = ~health_lab_data_2018_19$Year.Week, y = ~health_lab_data_2018_19$BYam, type = 'bar', name = 'B (Yamagata Lineage)', marker = list(color = 'green')) %>%\n",
    "      add_trace(y = ~health_lab_data_2018_19$BVic, name = 'B (Victoria Lineage)', marker = list(color = 'lime')) %>%\n",
    "      add_trace(y = ~health_lab_data_2018_19$B, name = 'B (lineage not performed)', marker = list(color = 'blue')) %>%\n",
    "      add_trace(y = ~health_lab_data_2018_19$H3N2v, name = 'H3N2v', marker = list(color = 'purple')) %>%\n",
    "      add_trace(y = ~health_lab_data_2018_19$A..H3., name = 'A (H3N2)', marker = list(color = 'red')) %>%\n",
    "      add_trace(y = ~health_lab_data_2018_19$A..2009.H1N1., name = 'A (H1N1)pdm09', marker = list(color = 'orange')) %>%\n",
    "      add_trace(y = ~health_lab_data_2018_19$A..Subtyping.not.Performed., name = 'A (subtyping not performed)', marker = list(color = 'yellow')) %>%\n",
    "      layout(title = \"Influenza Positive Tests Reported to CDC by U.S Public Health Laboratories, \n",
    "             National Summary, 2018-2019 Season\", \n",
    "             xaxis = list(title = 'Week'), yaxis = list(title = 'Number of Positive Specimens'), barmode = 'stack')\n",
    "#p2\n",
    "iframe(width=\"900\", height=\"800\", url_link=\"//plot.ly/~mgaddam/3.embed\")"
   ]
  },
  {
   "cell_type": "code",
   "execution_count": 6,
   "metadata": {},
   "outputs": [],
   "source": [
    "influenza_types <- c('Influenza A(H3N2)', 'Influenza A(H1N1)pdm09', 'Influenza A(subtype unknown)', \n",
    "                     'Influenza B Victoria', 'Influenza B Yamagata', 'Influenza B(lineage not determined)')\n",
    "\n",
    "positive_specimens_per_influenza_type <- c(sum(health_lab_data_2018_19$A..H3.), sum(health_lab_data_2018_19$A..2009.H1N1.),\n",
    "                                           sum(health_lab_data_2018_19$A..Subtyping.not.Performed.), sum(health_lab_data_2018_19$BVic),\n",
    "                                           sum(health_lab_data_2018_19$BYam), sum(health_lab_data_2018_19$B))\n",
    "\n",
    "piechart_df <- data.frame(\"Categorie\" = influenza_types, \"count_subtype\" = positive_specimens_per_influenza_type)\n",
    "clade_2018_19 <- read.csv('./Genetic08.csv')\n",
    "colnames(clade_2018_19) <- c(\"subtype\", \"lineage\", \"geneticgroup\", \"distinctcount\", \"totaldistinctcount\")"
   ]
  },
  {
   "cell_type": "code",
   "execution_count": 7,
   "metadata": {},
   "outputs": [
    {
     "data": {
      "text/html": [
       "<!doctype html>\n",
       "<html>\n",
       "\t<head>\n",
       "\t\t<meta charset=\"utf-8\">\n",
       "\t\t\n",
       "\t</head>\n",
       "\t<body>\n",
       "\t\t<iframe width=\"900\" height=\"800\" src=\"//plot.ly/~mgaddam/6.embed\"></iframe>\n",
       "\t</body>\n",
       "</html>\n"
      ],
      "text/plain": [
       "Shiny tags cannot be represented in plain text (need html)"
      ]
     },
     "metadata": {
      "text/html": {
       "isolated": true
      }
     },
     "output_type": "display_data"
    }
   ],
   "source": [
    "pie_sub <- plot_ly() %>%\n",
    "        add_pie(data = clade_2018_19[6:8, ], labels = ~geneticgroup, values = ~distinctcount, textinfo = 'value+percent',\n",
    "                name = \"Influenza A(H3N2)\", domain = list(x = c(0, 0.5), y = c(0.5, 0.9))) %>%\n",
    "        add_pie(data = clade_2018_19[5, ], labels = ~geneticgroup, values = ~distinctcount, textinfo = 'value+percent',\n",
    "                name = \"Influenza A(H1N1)pdm09\", domain = list(x = c(0.5, 0.8), y = c(0.5, 0.9))) %>%\n",
    "        add_pie(data = clade_2018_19[1:3, ], labels = ~geneticgroup, values = ~distinctcount, textinfo = 'value+percent',\n",
    "                name = \"Influenza B Victoria\", domain = list(x = c(0, 0.5), y = c(0, 0.4))) %>%\n",
    "        add_pie(data = clade_2018_19[4, ], labels = ~geneticgroup, values = ~distinctcount, textinfo = 'value+percent',\n",
    "                name = \"Influenza B Yamagata\", domain = list(x = c(0.5, 0.8), y = c(0, 0.4))) %>%\n",
    "        layout(title = 'Sequence Results by Genetic HA Clade/Subclade, of specimens \n",
    "                      Submitted to CDC by U.S Public Health Laboratories, cumulative,\n",
    "                      2018-2019 Season',\n",
    "               xaxis = list(showgrid = FALSE, zeroline = FALSE, showticklabels = FALSE), \n",
    "               yaxis = list(showgrid = FALSE, zeroline = FALSE, showticklabels = FALSE))\n",
    "#pie_sub\n",
    "iframe(width=\"900\", height=\"800\", url_link=\"//plot.ly/~mgaddam/6.embed\")"
   ]
  },
  {
   "cell_type": "code",
   "execution_count": 8,
   "metadata": {},
   "outputs": [
    {
     "data": {
      "text/html": [
       "<!doctype html>\n",
       "<html>\n",
       "\t<head>\n",
       "\t\t<meta charset=\"utf-8\">\n",
       "\t\t\n",
       "\t</head>\n",
       "\t<body>\n",
       "\t\t<iframe width=\"900\" height=\"800\" src=\"//plot.ly/~mgaddam/9.embed\"></iframe>\n",
       "\t</body>\n",
       "</html>\n"
      ],
      "text/plain": [
       "Shiny tags cannot be represented in plain text (need html)"
      ]
     },
     "metadata": {
      "text/html": {
       "isolated": true
      }
     },
     "output_type": "display_data"
    }
   ],
   "source": [
    "pie_all <- plot_ly(piechart_df, labels = ~Categorie, values = ~count_subtype, textinfo = 'value+percent', type = 'pie') %>%\n",
    "      layout(title = 'Influenza Positive Specimens Reported by U.S Public Health Laboratories, cumulative, 2018-2019 Season',\n",
    "             xaxis = list(showgrid = FALSE, zeroline = FALSE, showticklabels = FALSE), \n",
    "             yaxis = list(showgrid = FALSE, zeroline = FALSE, showticklabels = FALSE))\n",
    "#pie_all\n",
    "iframe(width=\"900\", height=\"800\", url_link=\"//plot.ly/~mgaddam/9.embed\")"
   ]
  },
  {
   "cell_type": "code",
   "execution_count": 9,
   "metadata": {},
   "outputs": [
    {
     "data": {
      "text/html": [
       "<table>\n",
       "<thead><tr><th></th><th scope=col>Year</th><th scope=col>Week</th><th scope=col>Percent.of.Deaths.Due.to.Pneumonia.and.Influenza</th><th scope=col>Expected</th><th scope=col>Threshold</th><th scope=col>All.Deaths</th><th scope=col>Pneumonia.Deaths</th><th scope=col>Influenza.Deaths</th><th scope=col>Year.Week</th></tr></thead>\n",
       "<tbody>\n",
       "\t<tr><th scope=row>222</th><td>2014     </td><td>1        </td><td> 9.083098</td><td>7.79573  </td><td>8.20201  </td><td>53539    </td><td>4512     </td><td>351      </td><td>2014 - 1 </td></tr>\n",
       "\t<tr><th scope=row>223</th><td>2014     </td><td>2        </td><td> 9.781090</td><td>7.87593  </td><td>8.28201  </td><td>55822    </td><td>4999     </td><td>461      </td><td>2014 - 2 </td></tr>\n",
       "\t<tr><th scope=row>224</th><td>2014     </td><td>3        </td><td>10.037004</td><td>7.94428  </td><td>8.35017  </td><td>54588    </td><td>5005     </td><td>474      </td><td>2014 - 3 </td></tr>\n",
       "\t<tr><th scope=row>225</th><td>2014     </td><td>4        </td><td> 9.658576</td><td>7.99977  </td><td>8.40546  </td><td>54097    </td><td>4783     </td><td>442      </td><td>2014 - 4 </td></tr>\n",
       "\t<tr><th scope=row>226</th><td>2014     </td><td>5        </td><td> 9.279573</td><td>8.04157  </td><td>8.44707  </td><td>53968    </td><td>4623     </td><td>385      </td><td>2014 - 5 </td></tr>\n",
       "\t<tr><th scope=row>227</th><td>2014     </td><td>6        </td><td> 8.970566</td><td>8.06905  </td><td>8.47436  </td><td>53408    </td><td>4476     </td><td>315      </td><td>2014 - 6 </td></tr>\n",
       "</tbody>\n",
       "</table>\n"
      ],
      "text/latex": [
       "\\begin{tabular}{r|lllllllll}\n",
       "  & Year & Week & Percent.of.Deaths.Due.to.Pneumonia.and.Influenza & Expected & Threshold & All.Deaths & Pneumonia.Deaths & Influenza.Deaths & Year.Week\\\\\n",
       "\\hline\n",
       "\t222 & 2014      & 1         &  9.083098 & 7.79573   & 8.20201   & 53539     & 4512      & 351       & 2014 - 1 \\\\\n",
       "\t223 & 2014      & 2         &  9.781090 & 7.87593   & 8.28201   & 55822     & 4999      & 461       & 2014 - 2 \\\\\n",
       "\t224 & 2014      & 3         & 10.037004 & 7.94428   & 8.35017   & 54588     & 5005      & 474       & 2014 - 3 \\\\\n",
       "\t225 & 2014      & 4         &  9.658576 & 7.99977   & 8.40546   & 54097     & 4783      & 442       & 2014 - 4 \\\\\n",
       "\t226 & 2014      & 5         &  9.279573 & 8.04157   & 8.44707   & 53968     & 4623      & 385       & 2014 - 5 \\\\\n",
       "\t227 & 2014      & 6         &  8.970566 & 8.06905   & 8.47436   & 53408     & 4476      & 315       & 2014 - 6 \\\\\n",
       "\\end{tabular}\n"
      ],
      "text/markdown": [
       "\n",
       "| <!--/--> | Year | Week | Percent.of.Deaths.Due.to.Pneumonia.and.Influenza | Expected | Threshold | All.Deaths | Pneumonia.Deaths | Influenza.Deaths | Year.Week |\n",
       "|---|---|---|---|---|---|---|---|---|---|\n",
       "| 222 | 2014      | 1         |  9.083098 | 7.79573   | 8.20201   | 53539     | 4512      | 351       | 2014 - 1  |\n",
       "| 223 | 2014      | 2         |  9.781090 | 7.87593   | 8.28201   | 55822     | 4999      | 461       | 2014 - 2  |\n",
       "| 224 | 2014      | 3         | 10.037004 | 7.94428   | 8.35017   | 54588     | 5005      | 474       | 2014 - 3  |\n",
       "| 225 | 2014      | 4         |  9.658576 | 7.99977   | 8.40546   | 54097     | 4783      | 442       | 2014 - 4  |\n",
       "| 226 | 2014      | 5         |  9.279573 | 8.04157   | 8.44707   | 53968     | 4623      | 385       | 2014 - 5  |\n",
       "| 227 | 2014      | 6         |  8.970566 | 8.06905   | 8.47436   | 53408     | 4476      | 315       | 2014 - 6  |\n",
       "\n"
      ],
      "text/plain": [
       "    Year Week Percent.of.Deaths.Due.to.Pneumonia.and.Influenza Expected\n",
       "222 2014 1     9.083098                                        7.79573 \n",
       "223 2014 2     9.781090                                        7.87593 \n",
       "224 2014 3    10.037004                                        7.94428 \n",
       "225 2014 4     9.658576                                        7.99977 \n",
       "226 2014 5     9.279573                                        8.04157 \n",
       "227 2014 6     8.970566                                        8.06905 \n",
       "    Threshold All.Deaths Pneumonia.Deaths Influenza.Deaths Year.Week\n",
       "222 8.20201   53539      4512             351              2014 - 1 \n",
       "223 8.28201   55822      4999             461              2014 - 2 \n",
       "224 8.35017   54588      5005             474              2014 - 3 \n",
       "225 8.40546   54097      4783             442              2014 - 4 \n",
       "226 8.44707   53968      4623             385              2014 - 5 \n",
       "227 8.47436   53408      4476             315              2014 - 6 "
      ]
     },
     "metadata": {},
     "output_type": "display_data"
    }
   ],
   "source": [
    "mo <- read.csv('./NCHSData05.csv')\n",
    "mo_data <- subset(mo, Year >= 2014)\n",
    "mo_data$Year.Week <- paste(mo_data$Year, '-', mo_data$Week)\n",
    "head(mo_data)"
   ]
  },
  {
   "cell_type": "code",
   "execution_count": 10,
   "metadata": {},
   "outputs": [
    {
     "data": {
      "text/html": [
       "<!doctype html>\n",
       "<html>\n",
       "\t<head>\n",
       "\t\t<meta charset=\"utf-8\">\n",
       "\t\t\n",
       "\t</head>\n",
       "\t<body>\n",
       "\t\t<iframe width=\"900\" height=\"800\" src=\"//plot.ly/~mgaddam/11.embed\"></iframe>\n",
       "\t</body>\n",
       "</html>\n"
      ],
      "text/plain": [
       "Shiny tags cannot be represented in plain text (need html)"
      ]
     },
     "metadata": {
      "text/html": {
       "isolated": true
      }
     },
     "output_type": "display_data"
    }
   ],
   "source": [
    "tickvals <- (subset(mo_data, Week %% 10 == 0))$Year.Week\n",
    "p4 <- plot_ly(mo_data, x = ~Year.Week)  %>%\n",
    "      add_lines(y = ~Expected, line = list(color = \"green\", width = 2), name = \"Baseline\") %>%\n",
    "      add_lines(y = ~Threshold, type = \"scatter\", line = list(color = \"blue\", width = 2), name = \"Threshold\") %>%\n",
    "      add_lines(y = ~Percent.of.Deaths.Due.to.Pneumonia.and.Influenza, type = \"scatter\", line = list(color = \"red\", width = 2), name = \"%\") %>%\n",
    "      layout(title = \"Pneumonia and Influenza Mortality from \n",
    "                      the National Center for Health Statistics Mortality Surveillance System\", \n",
    "             xaxis = list(tickvals = tickvals, title = \"MMWR Week\"), yaxis = list(title = \"% of all deaths due to P&I\"))\n",
    "#p4\n",
    "iframe(width=\"900\", height=\"800\", url_link=\"//plot.ly/~mgaddam/11.embed\")"
   ]
  },
  {
   "cell_type": "code",
   "execution_count": 11,
   "metadata": {},
   "outputs": [],
   "source": [
    "pediatric_data <- read.csv('./Weekly-pediatric-deaths.csv')\n",
    "pediatric_data_2015_16 <- subset(pediatric_data, SEASON == \"2015-16\")\n",
    "pediatric_data_2016_17 <- subset(pediatric_data, SEASON == \"2016-17\")\n",
    "pediatric_data_2017_18 <- subset(pediatric_data, SEASON == \"2017-18\")\n",
    "pediatric_data_2018_19 <- subset(pediatric_data, SEASON == \"2018-19\")"
   ]
  },
  {
   "cell_type": "code",
   "execution_count": 12,
   "metadata": {},
   "outputs": [
    {
     "data": {
      "text/html": [
       "<!doctype html>\n",
       "<html>\n",
       "\t<head>\n",
       "\t\t<meta charset=\"utf-8\">\n",
       "\t\t\n",
       "\t</head>\n",
       "\t<body>\n",
       "\t\t<iframe width=\"900\" height=\"800\" src=\"//plot.ly/~mgaddam/13.embed\"></iframe>\n",
       "\t</body>\n",
       "</html>\n"
      ],
      "text/plain": [
       "Shiny tags cannot be represented in plain text (need html)"
      ]
     },
     "metadata": {
      "text/html": {
       "isolated": true
      }
     },
     "output_type": "display_data"
    }
   ],
   "source": [
    "annotations1 <- list(xref = 'paper', x = 0.05, y = 25, \n",
    "                     text = ~paste('2015-2016\\nNumber of Deaths \\nReported = ', sum(pediatric_data_2015_16$NO..OF.DEATHS)), \n",
    "                     font = list(family='Arial', size=12), showarrow = FALSE)\n",
    "annotations2 <- list(xref = 'paper', x = 0.3, y = 25, \n",
    "                     text = ~paste('2016-2017\\nNumber of Deaths \\nReported = ', sum(pediatric_data_2016_17$NO..OF.DEATHS)), \n",
    "                     font = list(family='Arial', size=12), showarrow = FALSE)\n",
    "annotations3 <- list(xref = 'paper', x = 0.6, y = 25, \n",
    "                     text = ~paste('2017-2018\\nNumber of Deaths \\nReported = ', sum(pediatric_data_2017_18$NO..OF.DEATHS)), \n",
    "                     font = list(family='Arial', size=12), showarrow = FALSE)\n",
    "annotations4 <- list(xref = 'paper', x = 0.9, y = 25, \n",
    "                     text = ~paste('2018-2019\\nNumber of Deaths \\nReported = ', sum(pediatric_data_2018_19$NO..OF.DEATHS)), \n",
    "                     font = list(family='Arial', size=12), showarrow = FALSE)\n",
    "p5 <- plot_ly(pediatric_data, x = ~WEEK.NUMBER, y = ~PREVIOUS.WEEK.DEATHS, type = 'bar',\n",
    "              name = 'Deaths Reported Previous Week', marker = list(color = 'green')) %>%\n",
    "      add_trace(y = ~CURRENT.WEEK.DEATHS, name = 'Deaths Reported Current Week', marker = list(color = 'rgb(102, 255, 255)')) %>%\n",
    "      layout(title = \"Number of Influenza associated pediatric deaths by Week of Death: 2015-2016 season to present\",\n",
    "             xaxis = list(autotick = FALSE, dtick = 6, ticks = \"outside\", title = \"Week of Death\"), \n",
    "             yaxis = list(title = \"Number of Deaths\"), annotations = annotations1) %>%\n",
    "      layout(annotations = annotations2) %>%\n",
    "      layout(annotations = annotations3) %>%\n",
    "      layout(annotations = annotations4) \n",
    "#p5\n",
    "iframe(width=\"900\", height=\"800\", url_link=\"//plot.ly/~mgaddam/13.embed\")"
   ]
  },
  {
   "cell_type": "code",
   "execution_count": 13,
   "metadata": {},
   "outputs": [],
   "source": [
    "ili_data <- read.csv('./ILINet.csv')\n",
    "\n",
    "#Function to return ILI data for the season year1-year2.\n",
    "seasonal_ili_data <- function(dataset, year1, year2){\n",
    "     temp = subset(ili_data, (ili_data$YEAR == year1 & ili_data$WEEK >= 40) | (ili_data$YEAR == year2 & ili_data$WEEK < 40))\n",
    "     return(temp)\n",
    "}\n",
    "\n",
    "ili_data_2009_10_season <- seasonal_ili_data(ili_data, 2009, 2010)\n",
    "ili_data_2011_12_season <- seasonal_ili_data(ili_data, 2011, 2012)\n",
    "ili_data_2014_15_season <- seasonal_ili_data(ili_data, 2014, 2015)\n",
    "ili_data_2015_16_season <- seasonal_ili_data(ili_data, 2015, 2016)\n",
    "ili_data_2016_17_season <- seasonal_ili_data(ili_data, 2016, 2017)\n",
    "ili_data_2017_18_season <- seasonal_ili_data(ili_data, 2017, 2018)\n",
    "ili_data_2018_19_season <- seasonal_ili_data(ili_data, 2018, 2019)"
   ]
  },
  {
   "cell_type": "code",
   "execution_count": 14,
   "metadata": {},
   "outputs": [
    {
     "data": {
      "text/html": [
       "<!doctype html>\n",
       "<html>\n",
       "\t<head>\n",
       "\t\t<meta charset=\"utf-8\">\n",
       "\t\t\n",
       "\t</head>\n",
       "\t<body>\n",
       "\t\t<iframe width=\"900\" height=\"800\" src=\"//plot.ly/~mgaddam/15.embed\"></iframe>\n",
       "\t</body>\n",
       "</html>\n"
      ],
      "text/plain": [
       "Shiny tags cannot be represented in plain text (need html)"
      ]
     },
     "metadata": {
      "text/html": {
       "isolated": true
      }
     },
     "output_type": "display_data"
    }
   ],
   "source": [
    "p6 <- plot_ly(ili_data_2009_10_season, x = ~WEEK, y = ~X..WEIGHTED.ILI, type = \"scatter\", mode = \"lines+markers\",\n",
    "              name = '2009-10 season', line = list(color = \"grey\"), marker = list(color = \"black\", opacity = 0.2)) %>%\n",
    "      add_trace(y = ~ili_data_2011_12_season$X..WEIGHTED.ILI, line = list(color = \"green\"), name = \"2011-12 season\") %>%\n",
    "      add_trace(y = ~ili_data_2014_15_season[-c(14), ]$X..WEIGHTED.ILI, line = list(color = \"cyan\"), name = \"2014-15 season\") %>%\n",
    "      add_trace(y = ~ili_data_2015_16_season$X..WEIGHTED.ILI, line = list(color = \"orange\"), name = \"2015-16 season\") %>%\n",
    "      add_trace(y = ~ili_data_2016_17_season$X..WEIGHTED.ILI, line = list(color = \"blue\"), name = \"2016-17 season\") %>%\n",
    "      add_trace(y = ~ili_data_2017_18_season$X..WEIGHTED.ILI, line = list(color = \"evan\"), name = \"2017-18 season\") %>%\n",
    "      add_trace(x = ~ili_data_2018_19_season$WEEK, y = ~ili_data_2018_19_season$X..WEIGHTED.ILI, line = list(color = \"red\"), name = \"2018-19 season\",\n",
    "                marker = list(color = \"red\", opacity = 1, symbol = \"triangle-up\")) %>%\n",
    "      layout(title = \"Percentage of Visits for Influenza-like Illness (ILI) Reported by \n",
    "                      the U.S Outpatient Influenza-like Illness Surveillance Network (IllNet),\n",
    "                      Weekly National Summary, 2018-2019 and Selected Previous Seasons\",\n",
    "             xaxis = list(ticks = \"outside\", type = \"category\", title = \"Week\"), yaxis = list(title = \"% of Visits for ILI\"))\n",
    "#p6\n",
    "iframe(width=\"900\", height=\"800\", url_link=\"//plot.ly/~mgaddam/15.embed\")"
   ]
  },
  {
   "cell_type": "code",
   "execution_count": 15,
   "metadata": {},
   "outputs": [],
   "source": [
    "heatmap_data <- read.csv('./StateDataforMap_2018-19week6.csv')\n",
    "statecode <- c(\"AL\", \"AK\", \"AZ\", \"AR\", \"CA\", \"CO\", \"CT\", \"DE\", \"DC\", \"FL\", \"GA\", \"HI\", \"ID\", \"IL\", \"IN\", \"IA\", \"KS\", \"KY\", \"LA\", \"ME\", \"MD\", \"MA\", \"MI\", \"MN\", \"MS\", \"MO\", \"MT\", \"NE\", \"NV\", \"NH\", \"NJ\", \"NM\", \"NY\", \"NC\", \"ND\", \"OH\", \"OK\", \"OR\", \"PA\", \"RI\", \"SC\", \"SD\", \"TN\", \"TX\", \"UT\", \"VT\", \"VA\", \"WA\", \"WV\", \"WI\", \"WY\", \"NY\", \"PR\", \"VI\")\n",
    "heatmap_data$statecode <- factor(statecode)\n",
    "heatmap_data$level.value <- sapply(heatmap_data$ACTIVITY.LEVEL, function(x)as.numeric(strsplit(as.character(x[1]), \" \")[[1]][2]))\n",
    "heatmap_data$hover <- with(heatmap_data, \n",
    "                           paste(STATENAME, '<br>', \"ILI Activity:\", ACTIVITY.LEVEL.LABEL, \"(\", ACTIVITY.LEVEL, \")\", '<br>'))                                   "
   ]
  },
  {
   "cell_type": "code",
   "execution_count": 16,
   "metadata": {},
   "outputs": [
    {
     "data": {
      "text/html": [
       "<!doctype html>\n",
       "<html>\n",
       "\t<head>\n",
       "\t\t<meta charset=\"utf-8\">\n",
       "\t\t\n",
       "\t</head>\n",
       "\t<body>\n",
       "\t\t<iframe width=\"900\" height=\"800\" src=\"//plot.ly/~mgaddam/19.embed\"></iframe>\n",
       "\t</body>\n",
       "</html>\n"
      ],
      "text/plain": [
       "Shiny tags cannot be represented in plain text (need html)"
      ]
     },
     "metadata": {
      "text/html": {
       "isolated": true
      }
     },
     "output_type": "display_data"
    }
   ],
   "source": [
    "l <- list(color = toRGB(\"white\"), width = 2)\n",
    "p7 <- plot_geo(locationmode = 'USA-states') %>%\n",
    "      add_trace(data =heatmap_data, z = ~level.value, locations = ~statecode, \n",
    "                color = ~level.value, colors = \"RdYlGn\", text = ~hover, marker = list(line = l)) %>%\n",
    "      layout(title = '2018-19 Influenza Season Week 6 ending Feb 09, 2019',\n",
    "             geo = list(scope = 'usa', projection = list(type = 'albers usa')))\n",
    "#p7\n",
    "iframe(width=\"900\", height=\"800\", url_link=\"//plot.ly/~mgaddam/19.embed\")"
   ]
  },
  {
   "cell_type": "code",
   "execution_count": 17,
   "metadata": {},
   "outputs": [
    {
     "data": {
      "text/html": [
       "<table>\n",
       "<thead><tr><th scope=col>REGION.TYPE</th><th scope=col>REGION</th><th scope=col>YEAR</th><th scope=col>WEEK</th><th scope=col>TOTAL.SPECIMENS</th><th scope=col>TOTAL.A</th><th scope=col>TOTAL.B</th><th scope=col>PERCENT.POSITIVE</th><th scope=col>PERCENT.A</th><th scope=col>PERCENT.B</th><th scope=col>Year.Week</th></tr></thead>\n",
       "<tbody>\n",
       "\t<tr><td>National</td><td>X       </td><td>2017    </td><td>40      </td><td>15532   </td><td>230     </td><td>112     </td><td>2.20191 </td><td>1.48081 </td><td>0.721092</td><td>2017 40 </td></tr>\n",
       "\t<tr><td>National</td><td>X       </td><td>2017    </td><td>41      </td><td>16557   </td><td>248     </td><td> 98     </td><td>2.08975 </td><td>1.49786 </td><td>0.591895</td><td>2017 41 </td></tr>\n",
       "\t<tr><td>National</td><td>X       </td><td>2017    </td><td>42      </td><td>17827   </td><td>278     </td><td>110     </td><td>2.17647 </td><td>1.55943 </td><td>0.617042</td><td>2017 42 </td></tr>\n",
       "\t<tr><td>National</td><td>X       </td><td>2017    </td><td>43      </td><td>18391   </td><td>340     </td><td>135     </td><td>2.58279 </td><td>1.84873 </td><td>0.734055</td><td>2017 43 </td></tr>\n",
       "\t<tr><td>National</td><td>X       </td><td>2017    </td><td>44      </td><td>20015   </td><td>503     </td><td>219     </td><td>3.60729 </td><td>2.51312 </td><td>1.094180</td><td>2017 44 </td></tr>\n",
       "\t<tr><td>National</td><td>X       </td><td>2017    </td><td>45      </td><td>21886   </td><td>689     </td><td>240     </td><td>4.24472 </td><td>3.14813 </td><td>1.096590</td><td>2017 45 </td></tr>\n",
       "</tbody>\n",
       "</table>\n"
      ],
      "text/latex": [
       "\\begin{tabular}{r|lllllllllll}\n",
       " REGION.TYPE & REGION & YEAR & WEEK & TOTAL.SPECIMENS & TOTAL.A & TOTAL.B & PERCENT.POSITIVE & PERCENT.A & PERCENT.B & Year.Week\\\\\n",
       "\\hline\n",
       "\t National & X        & 2017     & 40       & 15532    & 230      & 112      & 2.20191  & 1.48081  & 0.721092 & 2017 40 \\\\\n",
       "\t National & X        & 2017     & 41       & 16557    & 248      &  98      & 2.08975  & 1.49786  & 0.591895 & 2017 41 \\\\\n",
       "\t National & X        & 2017     & 42       & 17827    & 278      & 110      & 2.17647  & 1.55943  & 0.617042 & 2017 42 \\\\\n",
       "\t National & X        & 2017     & 43       & 18391    & 340      & 135      & 2.58279  & 1.84873  & 0.734055 & 2017 43 \\\\\n",
       "\t National & X        & 2017     & 44       & 20015    & 503      & 219      & 3.60729  & 2.51312  & 1.094180 & 2017 44 \\\\\n",
       "\t National & X        & 2017     & 45       & 21886    & 689      & 240      & 4.24472  & 3.14813  & 1.096590 & 2017 45 \\\\\n",
       "\\end{tabular}\n"
      ],
      "text/markdown": [
       "\n",
       "| REGION.TYPE | REGION | YEAR | WEEK | TOTAL.SPECIMENS | TOTAL.A | TOTAL.B | PERCENT.POSITIVE | PERCENT.A | PERCENT.B | Year.Week |\n",
       "|---|---|---|---|---|---|---|---|---|---|---|\n",
       "| National | X        | 2017     | 40       | 15532    | 230      | 112      | 2.20191  | 1.48081  | 0.721092 | 2017 40  |\n",
       "| National | X        | 2017     | 41       | 16557    | 248      |  98      | 2.08975  | 1.49786  | 0.591895 | 2017 41  |\n",
       "| National | X        | 2017     | 42       | 17827    | 278      | 110      | 2.17647  | 1.55943  | 0.617042 | 2017 42  |\n",
       "| National | X        | 2017     | 43       | 18391    | 340      | 135      | 2.58279  | 1.84873  | 0.734055 | 2017 43  |\n",
       "| National | X        | 2017     | 44       | 20015    | 503      | 219      | 3.60729  | 2.51312  | 1.094180 | 2017 44  |\n",
       "| National | X        | 2017     | 45       | 21886    | 689      | 240      | 4.24472  | 3.14813  | 1.096590 | 2017 45  |\n",
       "\n"
      ],
      "text/plain": [
       "  REGION.TYPE REGION YEAR WEEK TOTAL.SPECIMENS TOTAL.A TOTAL.B PERCENT.POSITIVE\n",
       "1 National    X      2017 40   15532           230     112     2.20191         \n",
       "2 National    X      2017 41   16557           248      98     2.08975         \n",
       "3 National    X      2017 42   17827           278     110     2.17647         \n",
       "4 National    X      2017 43   18391           340     135     2.58279         \n",
       "5 National    X      2017 44   20015           503     219     3.60729         \n",
       "6 National    X      2017 45   21886           689     240     4.24472         \n",
       "  PERCENT.A PERCENT.B Year.Week\n",
       "1 1.48081   0.721092  2017 40  \n",
       "2 1.49786   0.591895  2017 41  \n",
       "3 1.55943   0.617042  2017 42  \n",
       "4 1.84873   0.734055  2017 43  \n",
       "5 2.51312   1.094180  2017 44  \n",
       "6 3.14813   1.096590  2017 45  "
      ]
     },
     "metadata": {},
     "output_type": "display_data"
    }
   ],
   "source": [
    "#Load Clinical labaratory data\n",
    "clinical_lab_data_2017_18 <- read.csv(\"./WHO_NREVSS_Clinical_Labs_2017_18.csv\")\n",
    "\n",
    "#Add leading zeros for single digit week numbers. (So that the year-week combination is properly sorted)\n",
    "clinical_lab_data_2017_18$WEEK <- sprintf(\"%02d\",clinical_lab_data_2017_18$WEEK)\n",
    "\n",
    "#Combine Year and week into a single column\n",
    "clinical_lab_data_2017_18$Year.Week <- paste(clinical_lab_data_2017_18$YEAR, clinical_lab_data_2017_18$WEEK)\n",
    "head(clinical_lab_data_2017_18)"
   ]
  },
  {
   "cell_type": "code",
   "execution_count": 18,
   "metadata": {},
   "outputs": [
    {
     "data": {
      "text/html": [
       "<!doctype html>\n",
       "<html>\n",
       "\t<head>\n",
       "\t\t<meta charset=\"utf-8\">\n",
       "\t\t\n",
       "\t</head>\n",
       "\t<body>\n",
       "\t\t<iframe width=\"900\" height=\"800\" src=\"//plot.ly/~mgaddam/21.embed\"></iframe>\n",
       "\t</body>\n",
       "</html>\n"
      ],
      "text/plain": [
       "Shiny tags cannot be represented in plain text (need html)"
      ]
     },
     "metadata": {
      "text/html": {
       "isolated": true
      }
     },
     "output_type": "display_data"
    }
   ],
   "source": [
    "ay <- list(\n",
    "  tickfont = list(color = \"black\"),\n",
    "  overlaying = \"y\",\n",
    "  side = \"right\",\n",
    "  title = \"Percent Positive\",\n",
    "  autorange = \"tozero\"  \n",
    ")\n",
    "\n",
    "bargraph_data_2017_18 <- data.frame(clinical_lab_data_2017_18$Year.Week, clinical_lab_data_2017_18$TOTAL.A, \n",
    "                                    clinical_lab_data_2017_18$TOTAL.B, clinical_lab_data_2017_18$PERCENT.POSITIVE,\n",
    "                                    clinical_lab_data_2017_18$PERCENT.A, clinical_lab_data_2017_18$PERCENT.B)\n",
    "colnames(bargraph_data_2017_18) <- c(\"Year.Week\", \"TOTAL.A\", \"TOTAL.B\", \"PERCENT.POSITIVE\", \"PERCENT.A\", \"PERCENT.B\")\n",
    "bargraph_data_merged <- merge(bargraph_data_2017_18, bargraph_data_2018_19, all = TRUE)[]\n",
    "bargraph_data_recent_year <- bargraph_data_merged[18:nrow(bargraph_data_merged), ]\n",
    "p8 <- plot_ly(bargraph_data_recent_year, x = ~factor(bargraph_data_recent_year$Year.Week), y = ~bargraph_data_recent_year$TOTAL.B, type = 'bar', name = 'B', marker = list(color = 'green')) %>%\n",
    "     add_trace(y = ~bargraph_data_recent_year$TOTAL.A, name = 'A', marker = list(color = 'yellow')) %>%\n",
    "     add_trace(y = ~bargraph_data_recent_year$PERCENT.POSITIVE, type = 'scatter', mode = 'lines+markers', name = \"Percent positive\", yaxis = \"y2\", line = list(color = 'black')) %>%\n",
    "     add_trace(y = ~bargraph_data_recent_year$PERCENT.A, type = 'scatter', mode = 'lines+markers', name = \"% Positive Flu A\", yaxis = \"y2\", line = list(color = 'blue', dash = 'dot')) %>%\n",
    "     add_trace(y = ~bargraph_data_recent_year$PERCENT.B, type = 'scatter', mode = 'lines+markers', name = \"% Positive Flu B\", yaxis = \"y2\", line = list(color = 'red', dash = 'dot')) %>%\n",
    "     layout(title = \"Influenza Positive Tests Reported to CDC by U.S Clinical Laboratories, \n",
    "            National Summary, for the past one year\", \n",
    "            xaxis = list(title = 'Week'), yaxis = list(title = 'Number of Positive Specimens'), yaxis2 = ay, barmode = 'stack')\n",
    "\n",
    "#p8\n",
    "iframe(width=\"900\", height=\"800\", url_link=\"//plot.ly/~mgaddam/21.embed\")"
   ]
  },
  {
   "cell_type": "code",
   "execution_count": 19,
   "metadata": {},
   "outputs": [
    {
     "data": {
      "text/html": [
       "<table>\n",
       "<thead><tr><th></th><th scope=col>REGION.TYPE</th><th scope=col>REGION</th><th scope=col>YEAR</th><th scope=col>WEEK</th><th scope=col>TOTAL.SPECIMENS</th><th scope=col>A..2009.H1N1.</th><th scope=col>A..H3.</th><th scope=col>A..Subtyping.not.Performed.</th><th scope=col>B</th><th scope=col>BVic</th><th scope=col>BYam</th><th scope=col>H3N2v</th><th scope=col>Year.Week</th></tr></thead>\n",
       "<tbody>\n",
       "\t<tr><th scope=row>18</th><td>National</td><td>X       </td><td>2018    </td><td>05      </td><td>7056    </td><td>542     </td><td>2494    </td><td>41      </td><td>306     </td><td> 91     </td><td>804     </td><td>0       </td><td>2018 05 </td></tr>\n",
       "\t<tr><th scope=row>19</th><td>National</td><td>X       </td><td>2018    </td><td>06      </td><td>6492    </td><td>544     </td><td>2040    </td><td>32      </td><td>329     </td><td>113     </td><td>931     </td><td>0       </td><td>2018 06 </td></tr>\n",
       "\t<tr><th scope=row>20</th><td>National</td><td>X       </td><td>2018    </td><td>07      </td><td>5508    </td><td>495     </td><td>1511    </td><td>24      </td><td>251     </td><td>115     </td><td>931     </td><td>0       </td><td>2018 07 </td></tr>\n",
       "\t<tr><th scope=row>21</th><td>National</td><td>X       </td><td>2018    </td><td>08      </td><td>4546    </td><td>306     </td><td>1073    </td><td>19      </td><td>245     </td><td>116     </td><td>891     </td><td>0       </td><td>2018 08 </td></tr>\n",
       "\t<tr><th scope=row>22</th><td>National</td><td>X       </td><td>2018    </td><td>09      </td><td>3580    </td><td>246     </td><td> 588    </td><td>12      </td><td>204     </td><td> 88     </td><td>699     </td><td>0       </td><td>2018 09 </td></tr>\n",
       "\t<tr><th scope=row>23</th><td>National</td><td>X       </td><td>2018    </td><td>10      </td><td>3057    </td><td>144     </td><td> 411    </td><td>25      </td><td>172     </td><td> 88     </td><td>646     </td><td>0       </td><td>2018 10 </td></tr>\n",
       "</tbody>\n",
       "</table>\n"
      ],
      "text/latex": [
       "\\begin{tabular}{r|lllllllllllll}\n",
       "  & REGION.TYPE & REGION & YEAR & WEEK & TOTAL.SPECIMENS & A..2009.H1N1. & A..H3. & A..Subtyping.not.Performed. & B & BVic & BYam & H3N2v & Year.Week\\\\\n",
       "\\hline\n",
       "\t18 & National & X        & 2018     & 05       & 7056     & 542      & 2494     & 41       & 306      &  91      & 804      & 0        & 2018 05 \\\\\n",
       "\t19 & National & X        & 2018     & 06       & 6492     & 544      & 2040     & 32       & 329      & 113      & 931      & 0        & 2018 06 \\\\\n",
       "\t20 & National & X        & 2018     & 07       & 5508     & 495      & 1511     & 24       & 251      & 115      & 931      & 0        & 2018 07 \\\\\n",
       "\t21 & National & X        & 2018     & 08       & 4546     & 306      & 1073     & 19       & 245      & 116      & 891      & 0        & 2018 08 \\\\\n",
       "\t22 & National & X        & 2018     & 09       & 3580     & 246      &  588     & 12       & 204      &  88      & 699      & 0        & 2018 09 \\\\\n",
       "\t23 & National & X        & 2018     & 10       & 3057     & 144      &  411     & 25       & 172      &  88      & 646      & 0        & 2018 10 \\\\\n",
       "\\end{tabular}\n"
      ],
      "text/markdown": [
       "\n",
       "| <!--/--> | REGION.TYPE | REGION | YEAR | WEEK | TOTAL.SPECIMENS | A..2009.H1N1. | A..H3. | A..Subtyping.not.Performed. | B | BVic | BYam | H3N2v | Year.Week |\n",
       "|---|---|---|---|---|---|---|---|---|---|---|---|---|---|\n",
       "| 18 | National | X        | 2018     | 05       | 7056     | 542      | 2494     | 41       | 306      |  91      | 804      | 0        | 2018 05  |\n",
       "| 19 | National | X        | 2018     | 06       | 6492     | 544      | 2040     | 32       | 329      | 113      | 931      | 0        | 2018 06  |\n",
       "| 20 | National | X        | 2018     | 07       | 5508     | 495      | 1511     | 24       | 251      | 115      | 931      | 0        | 2018 07  |\n",
       "| 21 | National | X        | 2018     | 08       | 4546     | 306      | 1073     | 19       | 245      | 116      | 891      | 0        | 2018 08  |\n",
       "| 22 | National | X        | 2018     | 09       | 3580     | 246      |  588     | 12       | 204      |  88      | 699      | 0        | 2018 09  |\n",
       "| 23 | National | X        | 2018     | 10       | 3057     | 144      |  411     | 25       | 172      |  88      | 646      | 0        | 2018 10  |\n",
       "\n"
      ],
      "text/plain": [
       "   REGION.TYPE REGION YEAR WEEK TOTAL.SPECIMENS A..2009.H1N1. A..H3.\n",
       "18 National    X      2018 05   7056            542           2494  \n",
       "19 National    X      2018 06   6492            544           2040  \n",
       "20 National    X      2018 07   5508            495           1511  \n",
       "21 National    X      2018 08   4546            306           1073  \n",
       "22 National    X      2018 09   3580            246            588  \n",
       "23 National    X      2018 10   3057            144            411  \n",
       "   A..Subtyping.not.Performed. B   BVic BYam H3N2v Year.Week\n",
       "18 41                          306  91  804  0     2018 05  \n",
       "19 32                          329 113  931  0     2018 06  \n",
       "20 24                          251 115  931  0     2018 07  \n",
       "21 19                          245 116  891  0     2018 08  \n",
       "22 12                          204  88  699  0     2018 09  \n",
       "23 25                          172  88  646  0     2018 10  "
      ]
     },
     "metadata": {},
     "output_type": "display_data"
    }
   ],
   "source": [
    "health_lab_data_2017_18 <- read.csv('./WHO_NREVSS_Public_Health_Labs_2017_18.csv')\n",
    "\n",
    "#Add leading zeros for single digit week numbers. (So that the year-week combination is properly sorted)\n",
    "health_lab_data_2017_18$WEEK <- sprintf(\"%02d\",health_lab_data_2017_18$WEEK)\n",
    "\n",
    "#Combine Year and week into a single column\n",
    "health_lab_data_2017_18$Year.Week <- paste(health_lab_data_2017_18$YEAR, health_lab_data_2017_18$WEEK)\n",
    "\n",
    "#Merge the datasets from the seasons 2017-18 and 2018-19.\n",
    "health_lab_data_merged <- merge(health_lab_data_2017_18, health_lab_data_2018_19, all = TRUE)\n",
    "health_lab_data_recent_year <- health_lab_data_merged[18:nrow(health_lab_data_merged), ]\n",
    "head(health_lab_data_recent_year)"
   ]
  },
  {
   "cell_type": "code",
   "execution_count": 20,
   "metadata": {},
   "outputs": [
    {
     "data": {
      "text/html": [
       "<!doctype html>\n",
       "<html>\n",
       "\t<head>\n",
       "\t\t<meta charset=\"utf-8\">\n",
       "\t\t\n",
       "\t</head>\n",
       "\t<body>\n",
       "\t\t<iframe width=\"900\" height=\"800\" src=\"//plot.ly/~mgaddam/23.embed\"></iframe>\n",
       "\t</body>\n",
       "</html>\n"
      ],
      "text/plain": [
       "Shiny tags cannot be represented in plain text (need html)"
      ]
     },
     "metadata": {
      "text/html": {
       "isolated": true
      }
     },
     "output_type": "display_data"
    }
   ],
   "source": [
    "p9 <- plot_ly(health_lab_data_recent_year, x = ~health_lab_data_recent_year$Year.Week, y = ~health_lab_data_recent_year$BYam, type = 'bar', name = 'B (Yamagata Lineage)', marker = list(color = 'green')) %>%\n",
    "      add_trace(y = ~health_lab_data_recent_year$BVic, name = 'B (Victoria Lineage)', marker = list(color = 'lime')) %>%\n",
    "      add_trace(y = ~health_lab_data_recent_year$B, name = 'B (lineage not performed)', marker = list(color = 'blue')) %>%\n",
    "      add_trace(y = ~health_lab_data_recent_year$H3N2v, name = 'H3N2v', marker = list(color = 'purple')) %>%\n",
    "      add_trace(y = ~health_lab_data_recent_year$A..H3., name = 'A (H3N2)', marker = list(color = 'red')) %>%\n",
    "      add_trace(y = ~health_lab_data_recent_year$A..2009.H1N1., name = 'A (H1N1)pdm09', marker = list(color = 'orange')) %>%\n",
    "      add_trace(y = ~health_lab_data_recent_year$A..Subtyping.not.Performed., name = 'A (subtyping not performed)', marker = list(color = 'yellow')) %>%\n",
    "      layout(title = \"Influenza Positive Tests Reported to CDC by U.S Public Health Laboratories, \n",
    "             National Summary, for the past one year\", \n",
    "             xaxis = list(title = 'Week'), yaxis = list(title = 'Number of Positive Specimens'), barmode = 'stack')\n",
    "#p9\n",
    "iframe(width=\"900\", height=\"800\", url_link=\"//plot.ly/~mgaddam/23.embed\")"
   ]
  },
  {
   "cell_type": "code",
   "execution_count": 21,
   "metadata": {},
   "outputs": [
    {
     "data": {
      "text/html": [
       "<table>\n",
       "<thead><tr><th></th><th scope=col>REGION.TYPE</th><th scope=col>REGION</th><th scope=col>YEAR</th><th scope=col>WEEK</th><th scope=col>TOTAL.SPECIMENS</th><th scope=col>TOTAL.A</th><th scope=col>TOTAL.B</th><th scope=col>PERCENT.POSITIVE</th><th scope=col>PERCENT.A</th><th scope=col>PERCENT.B</th><th scope=col>Year.Week</th></tr></thead>\n",
       "<tbody>\n",
       "\t<tr><th scope=row>18</th><td>States  </td><td>New York</td><td>2018    </td><td>05      </td><td>7177    </td><td>1398    </td><td> 849    </td><td>31.31   </td><td>19.48   </td><td>11.83   </td><td>2018 05 </td></tr>\n",
       "\t<tr><th scope=row>19</th><td>States  </td><td>New York</td><td>2018    </td><td>06      </td><td>7517    </td><td>1513    </td><td> 953    </td><td>32.81   </td><td>20.13   </td><td>12.68   </td><td>2018 06 </td></tr>\n",
       "\t<tr><th scope=row>20</th><td>States  </td><td>New York</td><td>2018    </td><td>07      </td><td>7883    </td><td>1457    </td><td>1064    </td><td>31.98   </td><td>18.48   </td><td>13.50   </td><td>2018 07 </td></tr>\n",
       "\t<tr><th scope=row>21</th><td>States  </td><td>New York</td><td>2018    </td><td>08      </td><td>5760    </td><td> 830    </td><td> 742    </td><td>27.29   </td><td>14.41   </td><td>12.88   </td><td>2018 08 </td></tr>\n",
       "\t<tr><th scope=row>22</th><td>States  </td><td>New York</td><td>2018    </td><td>09      </td><td>4155    </td><td> 396    </td><td> 372    </td><td>18.48   </td><td> 9.53   </td><td> 8.95   </td><td>2018 09 </td></tr>\n",
       "\t<tr><th scope=row>23</th><td>States  </td><td>New York</td><td>2018    </td><td>10      </td><td>3448    </td><td> 234    </td><td> 234    </td><td>13.57   </td><td> 6.79   </td><td> 6.79   </td><td>2018 10 </td></tr>\n",
       "</tbody>\n",
       "</table>\n"
      ],
      "text/latex": [
       "\\begin{tabular}{r|lllllllllll}\n",
       "  & REGION.TYPE & REGION & YEAR & WEEK & TOTAL.SPECIMENS & TOTAL.A & TOTAL.B & PERCENT.POSITIVE & PERCENT.A & PERCENT.B & Year.Week\\\\\n",
       "\\hline\n",
       "\t18 & States   & New York & 2018     & 05       & 7177     & 1398     &  849     & 31.31    & 19.48    & 11.83    & 2018 05 \\\\\n",
       "\t19 & States   & New York & 2018     & 06       & 7517     & 1513     &  953     & 32.81    & 20.13    & 12.68    & 2018 06 \\\\\n",
       "\t20 & States   & New York & 2018     & 07       & 7883     & 1457     & 1064     & 31.98    & 18.48    & 13.50    & 2018 07 \\\\\n",
       "\t21 & States   & New York & 2018     & 08       & 5760     &  830     &  742     & 27.29    & 14.41    & 12.88    & 2018 08 \\\\\n",
       "\t22 & States   & New York & 2018     & 09       & 4155     &  396     &  372     & 18.48    &  9.53    &  8.95    & 2018 09 \\\\\n",
       "\t23 & States   & New York & 2018     & 10       & 3448     &  234     &  234     & 13.57    &  6.79    &  6.79    & 2018 10 \\\\\n",
       "\\end{tabular}\n"
      ],
      "text/markdown": [
       "\n",
       "| <!--/--> | REGION.TYPE | REGION | YEAR | WEEK | TOTAL.SPECIMENS | TOTAL.A | TOTAL.B | PERCENT.POSITIVE | PERCENT.A | PERCENT.B | Year.Week |\n",
       "|---|---|---|---|---|---|---|---|---|---|---|---|\n",
       "| 18 | States   | New York | 2018     | 05       | 7177     | 1398     |  849     | 31.31    | 19.48    | 11.83    | 2018 05  |\n",
       "| 19 | States   | New York | 2018     | 06       | 7517     | 1513     |  953     | 32.81    | 20.13    | 12.68    | 2018 06  |\n",
       "| 20 | States   | New York | 2018     | 07       | 7883     | 1457     | 1064     | 31.98    | 18.48    | 13.50    | 2018 07  |\n",
       "| 21 | States   | New York | 2018     | 08       | 5760     |  830     |  742     | 27.29    | 14.41    | 12.88    | 2018 08  |\n",
       "| 22 | States   | New York | 2018     | 09       | 4155     |  396     |  372     | 18.48    |  9.53    |  8.95    | 2018 09  |\n",
       "| 23 | States   | New York | 2018     | 10       | 3448     |  234     |  234     | 13.57    |  6.79    |  6.79    | 2018 10  |\n",
       "\n"
      ],
      "text/plain": [
       "   REGION.TYPE REGION   YEAR WEEK TOTAL.SPECIMENS TOTAL.A TOTAL.B\n",
       "18 States      New York 2018 05   7177            1398     849   \n",
       "19 States      New York 2018 06   7517            1513     953   \n",
       "20 States      New York 2018 07   7883            1457    1064   \n",
       "21 States      New York 2018 08   5760             830     742   \n",
       "22 States      New York 2018 09   4155             396     372   \n",
       "23 States      New York 2018 10   3448             234     234   \n",
       "   PERCENT.POSITIVE PERCENT.A PERCENT.B Year.Week\n",
       "18 31.31            19.48     11.83     2018 05  \n",
       "19 32.81            20.13     12.68     2018 06  \n",
       "20 31.98            18.48     13.50     2018 07  \n",
       "21 27.29            14.41     12.88     2018 08  \n",
       "22 18.48             9.53      8.95     2018 09  \n",
       "23 13.57             6.79      6.79     2018 10  "
      ]
     },
     "metadata": {},
     "output_type": "display_data"
    }
   ],
   "source": [
    "#Load Clinical labaratory data\n",
    "clinical_lab_data_NY <- read.csv(\"./WHO_NREVSS_Clinical_Labs_NY.csv\")\n",
    "\n",
    "#Add leading zeros for single digit week numbers. (So that the year-week combination is properly sorted)\n",
    "clinical_lab_data_NY$WEEK <- sprintf(\"%02d\",clinical_lab_data_NY$WEEK)\n",
    "\n",
    "#Combine Year and week into a single column\n",
    "clinical_lab_data_NY$Year.Week <- paste(clinical_lab_data_NY$YEAR, clinical_lab_data_NY$WEEK)\n",
    "clinical_lab_data_NY <- clinical_lab_data_NY[18:nrow(clinical_lab_data_NY), ]\n",
    "head(clinical_lab_data_NY)"
   ]
  },
  {
   "cell_type": "code",
   "execution_count": 22,
   "metadata": {},
   "outputs": [
    {
     "data": {
      "text/html": [
       "<!doctype html>\n",
       "<html>\n",
       "\t<head>\n",
       "\t\t<meta charset=\"utf-8\">\n",
       "\t\t\n",
       "\t</head>\n",
       "\t<body>\n",
       "\t\t<iframe width=\"900\" height=\"800\" src=\"//plot.ly/~mgaddam/25.embed\"></iframe>\n",
       "\t</body>\n",
       "</html>\n"
      ],
      "text/plain": [
       "Shiny tags cannot be represented in plain text (need html)"
      ]
     },
     "metadata": {
      "text/html": {
       "isolated": true
      }
     },
     "output_type": "display_data"
    }
   ],
   "source": [
    "p10 <- plot_ly(clinical_lab_data_NY, x = clinical_lab_data_NY$Year.Week, y = ~clinical_lab_data_NY$TOTAL.B, type = 'bar', name = 'B', marker = list(color = 'green')) %>%\n",
    "     add_trace(y = ~clinical_lab_data_NY$TOTAL.A, name = 'A', marker = list(color = 'yellow')) %>%\n",
    "     add_trace(y = ~clinical_lab_data_NY$PERCENT.POSITIVE, type = 'scatter', mode = 'lines+markers', name = \"Percent positive\", yaxis = \"y2\", line = list(color = 'black')) %>%\n",
    "     add_trace(y = ~clinical_lab_data_NY$PERCENT.A, type = 'scatter', mode = 'lines+markers', name = \"% Positive Flu A\", yaxis = \"y2\", line = list(color = 'blue', dash = 'dot')) %>%\n",
    "     add_trace(y = ~clinical_lab_data_NY$PERCENT.B, type = 'scatter', mode = 'lines+markers', name = \"% Positive Flu B\", yaxis = \"y2\", line = list(color = 'red', dash = 'dot')) %>%\n",
    "     layout(title = \"Influenza Positive Tests Reported to CDC by U.S Clinical Laboratories, \n",
    "            New York State Summary, for the past one year\", \n",
    "            xaxis = list(title = 'Week'), yaxis = list(title = 'Number of Positive Specimens'), yaxis2 = ay, barmode = 'stack')\n",
    "\n",
    "#p10\n",
    "iframe(width=\"900\", height=\"800\", url_link=\"//plot.ly/~mgaddam/25.embed\")"
   ]
  }
 ],
 "metadata": {
  "kernelspec": {
   "display_name": "R",
   "language": "R",
   "name": "ir"
  },
  "language_info": {
   "codemirror_mode": "r",
   "file_extension": ".r",
   "mimetype": "text/x-r-source",
   "name": "R",
   "pygments_lexer": "r",
   "version": "3.5.1"
  },
  "widgets": {
   "application/vnd.jupyter.widget-state+json": {
    "state": {},
    "version_major": 2,
    "version_minor": 0
   }
  }
 },
 "nbformat": 4,
 "nbformat_minor": 2
}
